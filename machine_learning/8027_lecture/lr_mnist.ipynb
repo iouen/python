{
 "cells": [
  {
   "cell_type": "markdown",
   "metadata": {},
   "source": [
    "# Logistic Regression with TensorFlow\n",
    "By Ivan"
   ]
  },
  {
   "cell_type": "markdown",
   "metadata": {},
   "source": [
    "## 0. Imports"
   ]
  },
  {
   "cell_type": "code",
   "execution_count": 37,
   "metadata": {
    "collapsed": true
   },
   "outputs": [],
   "source": [
    "import numpy as np\n",
    "import tensorflow as tf\n",
    "import time\n",
    "import matplotlib.pyplot as plt\n",
    "from tensorflow.examples.tutorials.mnist import input_data"
   ]
  },
  {
   "cell_type": "markdown",
   "metadata": {},
   "source": [
    "## 1. Download MNIST dataset"
   ]
  },
  {
   "cell_type": "code",
   "execution_count": 38,
   "metadata": {},
   "outputs": [
    {
     "name": "stdout",
     "output_type": "stream",
     "text": [
      "Extracting ./mnist/train-images-idx3-ubyte.gz\n",
      "Extracting ./mnist/train-labels-idx1-ubyte.gz\n",
      "Extracting ./mnist/t10k-images-idx3-ubyte.gz\n",
      "Extracting ./mnist/t10k-labels-idx1-ubyte.gz\n"
     ]
    }
   ],
   "source": [
    "# Using Tensorflow's default tools to fetch data, this is the same as what we did in the first homework assignment.\n",
    "mnist = input_data.read_data_sets('./mnist', one_hot=True)"
   ]
  },
  {
   "cell_type": "code",
   "execution_count": 39,
   "metadata": {},
   "outputs": [
    {
     "data": {
      "text/plain": [
       "(55000, 784)"
      ]
     },
     "execution_count": 39,
     "metadata": {},
     "output_type": "execute_result"
    }
   ],
   "source": [
    "# Check the dimension of training, validation and test sets.\n",
    "mnist.train.images.shape"
   ]
  },
  {
   "cell_type": "code",
   "execution_count": 40,
   "metadata": {},
   "outputs": [
    {
     "data": {
      "text/plain": [
       "(55000, 10)"
      ]
     },
     "execution_count": 40,
     "metadata": {},
     "output_type": "execute_result"
    }
   ],
   "source": [
    "mnist.train.labels.shape"
   ]
  },
  {
   "cell_type": "code",
   "execution_count": 41,
   "metadata": {},
   "outputs": [
    {
     "data": {
      "text/plain": [
       "(5000, 784)"
      ]
     },
     "execution_count": 41,
     "metadata": {},
     "output_type": "execute_result"
    }
   ],
   "source": [
    "mnist.validation.images.shape"
   ]
  },
  {
   "cell_type": "code",
   "execution_count": 42,
   "metadata": {},
   "outputs": [
    {
     "data": {
      "text/plain": [
       "(5000, 10)"
      ]
     },
     "execution_count": 42,
     "metadata": {},
     "output_type": "execute_result"
    }
   ],
   "source": [
    "mnist.validation.labels.shape"
   ]
  },
  {
   "cell_type": "code",
   "execution_count": 43,
   "metadata": {},
   "outputs": [
    {
     "data": {
      "text/plain": [
       "(10000, 784)"
      ]
     },
     "execution_count": 43,
     "metadata": {},
     "output_type": "execute_result"
    }
   ],
   "source": [
    "mnist.test.images.shape"
   ]
  },
  {
   "cell_type": "code",
   "execution_count": 44,
   "metadata": {},
   "outputs": [
    {
     "data": {
      "text/plain": [
       "(10000, 10)"
      ]
     },
     "execution_count": 44,
     "metadata": {},
     "output_type": "execute_result"
    }
   ],
   "source": [
    "mnist.test.labels.shape"
   ]
  },
  {
   "cell_type": "markdown",
   "metadata": {},
   "source": [
    "## 2. Model initialization"
   ]
  },
  {
   "cell_type": "code",
   "execution_count": 45,
   "metadata": {
    "collapsed": true
   },
   "outputs": [],
   "source": [
    "# Random seed.\n",
    "rseed = 42\n",
    "batch_size = 200\n",
    "lr = 1e-1\n",
    "num_epochs = 50\n",
    "num_train, num_feats = mnist.train.images.shape\n",
    "num_test = mnist.test.images.shape[0]\n",
    "num_classes = mnist.train.labels.shape[1]"
   ]
  },
  {
   "cell_type": "code",
   "execution_count": 46,
   "metadata": {
    "collapsed": true
   },
   "outputs": [],
   "source": [
    "# Placeholders that should be filled with training pairs (x, y). Use None to unspecify the first dimension \n",
    "# for flexibility.\n",
    "train_x = tf.placeholder(tf.float32, [None, num_feats], name=\"train_x\")\n",
    "train_y = tf.placeholder(tf.int32, [None, num_classes], name=\"train_y\")\n",
    "# Model weights of logistic regression.\n",
    "w = tf.Variable(tf.random_normal(shape=[num_feats, num_classes], stddev=0.1), name=\"lr_weights\")\n",
    "b = tf.Variable(tf.zeros([num_classes]), name=\"lr_bias\")"
   ]
  },
  {
   "cell_type": "markdown",
   "metadata": {},
   "source": [
    "## 3. Model training and testing"
   ]
  },
  {
   "cell_type": "code",
   "execution_count": 47,
   "metadata": {
    "collapsed": true
   },
   "outputs": [],
   "source": [
    "# logits is the log-probablity of each classes. \n",
    "logits = tf.matmul(train_x, w) + b\n",
    "# Use TensorFlow's default implementation to compute the cross-entropy loss of classification.\n",
    "cross_entropy = tf.nn.softmax_cross_entropy_with_logits(logits=logits, labels=train_y, name=\"loss\")\n",
    "loss = tf.reduce_mean(cross_entropy)\n",
    "# Build prediction function.\n",
    "preds = tf.nn.softmax(logits)\n",
    "correct_preds = tf.equal(tf.argmax(preds, 1), tf.argmax(train_y, 1))\n",
    "# Need to cast the type of correct_preds to float32 in order to compute the average mean accuracy.\n",
    "accuracy = tf.reduce_mean(tf.cast(correct_preds, tf.float32))"
   ]
  },
  {
   "cell_type": "code",
   "execution_count": 48,
   "metadata": {
    "collapsed": true
   },
   "outputs": [],
   "source": [
    "# Use TensorFlow's default implementation for optimziation algorithm. Note that we can understand\n",
    "# an optimization procedure as an OP (operator) as well.\n",
    "optimizer = tf.train.GradientDescentOptimizer(lr).minimize(loss)"
   ]
  },
  {
   "cell_type": "code",
   "execution_count": 49,
   "metadata": {},
   "outputs": [
    {
     "name": "stdout",
     "output_type": "stream",
     "text": [
      "Number of iteration: 0, total_loss = 200.253810167, train accuracy = [0.87341815], validation accuracy = [0.884]\n",
      "Number of iteration: 1, total_loss = 117.757588863, train accuracy = [0.89029092], validation accuracy = [0.89819998]\n",
      "Number of iteration: 2, total_loss = 105.379867613, train accuracy = [0.89630908], validation accuracy = [0.90439999]\n",
      "Number of iteration: 3, total_loss = 99.0899595469, train accuracy = [0.9029091], validation accuracy = [0.90899998]\n",
      "Number of iteration: 4, total_loss = 95.0621309131, train accuracy = [0.90585452], validation accuracy = [0.912]\n",
      "Number of iteration: 5, total_loss = 92.2124738842, train accuracy = [0.90845454], validation accuracy = [0.91420001]\n",
      "Number of iteration: 6, total_loss = 89.9906420708, train accuracy = [0.91039997], validation accuracy = [0.91540003]\n",
      "Number of iteration: 7, total_loss = 88.2692000717, train accuracy = [0.91210908], validation accuracy = [0.9156]\n",
      "Number of iteration: 8, total_loss = 86.7933472395, train accuracy = [0.91301817], validation accuracy = [0.91640002]\n",
      "Number of iteration: 9, total_loss = 85.6382542849, train accuracy = [0.9145273], validation accuracy = [0.91759998]\n",
      "Number of iteration: 10, total_loss = 84.5585760772, train accuracy = [0.91549093], validation accuracy = [0.91960001]\n",
      "Number of iteration: 11, total_loss = 83.6651058644, train accuracy = [0.91614544], validation accuracy = [0.91939998]\n",
      "Number of iteration: 12, total_loss = 82.8128573298, train accuracy = [0.91552728], validation accuracy = [0.91900003]\n",
      "Number of iteration: 13, total_loss = 82.1860198379, train accuracy = [0.91794544], validation accuracy = [0.9206]\n",
      "Number of iteration: 14, total_loss = 81.4624396265, train accuracy = [0.91832727], validation accuracy = [0.92159998]\n",
      "Number of iteration: 15, total_loss = 80.9226895422, train accuracy = [0.91869092], validation accuracy = [0.92159998]\n",
      "Number of iteration: 16, total_loss = 80.4036621749, train accuracy = [0.91939998], validation accuracy = [0.92299998]\n",
      "Number of iteration: 17, total_loss = 79.9314343631, train accuracy = [0.92000002], validation accuracy = [0.92119998]\n",
      "Number of iteration: 18, total_loss = 79.4616656154, train accuracy = [0.92005455], validation accuracy = [0.92140001]\n",
      "Number of iteration: 19, total_loss = 79.0647913963, train accuracy = [0.92040002], validation accuracy = [0.92220002]\n",
      "Number of iteration: 20, total_loss = 78.6512346268, train accuracy = [0.92092729], validation accuracy = [0.9224]\n",
      "Number of iteration: 21, total_loss = 78.2972024828, train accuracy = [0.92123634], validation accuracy = [0.92339998]\n",
      "Number of iteration: 22, total_loss = 77.9879102856, train accuracy = [0.92207271], validation accuracy = [0.92339998]\n",
      "Number of iteration: 23, total_loss = 77.6473835409, train accuracy = [0.92245454], validation accuracy = [0.92220002]\n",
      "Number of iteration: 24, total_loss = 77.3323718011, train accuracy = [0.92238182], validation accuracy = [0.92400002]\n",
      "Number of iteration: 25, total_loss = 77.0818442404, train accuracy = [0.92278183], validation accuracy = [0.92299998]\n",
      "Number of iteration: 26, total_loss = 76.8144606352, train accuracy = [0.92336363], validation accuracy = [0.92400002]\n",
      "Number of iteration: 27, total_loss = 76.5631239712, train accuracy = [0.9228], validation accuracy = [0.92339998]\n",
      "Number of iteration: 28, total_loss = 76.2967859209, train accuracy = [0.92369092], validation accuracy = [0.92460001]\n",
      "Number of iteration: 29, total_loss = 76.0517278314, train accuracy = [0.92354548], validation accuracy = [0.926]\n",
      "Number of iteration: 30, total_loss = 75.8789285645, train accuracy = [0.9242909], validation accuracy = [0.92379999]\n",
      "Number of iteration: 31, total_loss = 75.6431049258, train accuracy = [0.92387271], validation accuracy = [0.92479998]\n",
      "Number of iteration: 32, total_loss = 75.4200681448, train accuracy = [0.92383635], validation accuracy = [0.92460001]\n",
      "Number of iteration: 33, total_loss = 75.2618771791, train accuracy = [0.92450911], validation accuracy = [0.92519999]\n",
      "Number of iteration: 34, total_loss = 75.0680095702, train accuracy = [0.92458183], validation accuracy = [0.92559999]\n",
      "Number of iteration: 35, total_loss = 74.8707106858, train accuracy = [0.92392725], validation accuracy = [0.92500001]\n",
      "Number of iteration: 36, total_loss = 74.702617079, train accuracy = [0.92516363], validation accuracy = [0.92580003]\n",
      "Number of iteration: 37, total_loss = 74.5687873363, train accuracy = [0.92516363], validation accuracy = [0.92619997]\n",
      "Number of iteration: 38, total_loss = 74.4113900661, train accuracy = [0.926], validation accuracy = [0.92640001]\n",
      "Number of iteration: 39, total_loss = 74.2266841531, train accuracy = [0.92547274], validation accuracy = [0.92619997]\n",
      "Number of iteration: 40, total_loss = 74.0995840877, train accuracy = [0.92543638], validation accuracy = [0.92619997]\n",
      "Number of iteration: 41, total_loss = 73.9737100601, train accuracy = [0.92563635], validation accuracy = [0.92519999]\n",
      "Number of iteration: 42, total_loss = 73.8121645451, train accuracy = [0.92656362], validation accuracy = [0.926]\n",
      "Number of iteration: 43, total_loss = 73.6775464416, train accuracy = [0.92625457], validation accuracy = [0.92699999]\n",
      "Number of iteration: 44, total_loss = 73.5477491915, train accuracy = [0.92669094], validation accuracy = [0.92680001]\n",
      "Number of iteration: 45, total_loss = 73.4212581962, train accuracy = [0.92654544], validation accuracy = [0.92659998]\n",
      "Number of iteration: 46, total_loss = 73.2961295694, train accuracy = [0.92625457], validation accuracy = [0.92720002]\n",
      "Number of iteration: 47, total_loss = 73.1634062678, train accuracy = [0.92710906], validation accuracy = [0.92720002]\n",
      "Number of iteration: 48, total_loss = 73.0574988574, train accuracy = [0.92690909], validation accuracy = [0.92659998]\n",
      "Number of iteration: 49, total_loss = 72.9251338542, train accuracy = [0.92680001], validation accuracy = [0.92820001]\n",
      "Time used for training = 77.8674740791 seconds.\n",
      "MNIST image classification accuracy on test set = [0.92379999]\n"
     ]
    }
   ],
   "source": [
    "# Start training!\n",
    "num_batches = num_train / batch_size\n",
    "losses = []\n",
    "train_accs, valid_accs = [], []\n",
    "time_start = time.time()\n",
    "with tf.Session() as sess:\n",
    "    # Visualize the process in TensorBoard.\n",
    "    writer = tf.summary.FileWriter(\"./graphs\", sess.graph)\n",
    "    # Before evaluating the graph, we should initialize all the variables.\n",
    "    sess.run(tf.global_variables_initializer())\n",
    "    for i in xrange(num_epochs):\n",
    "        # Each training epoch contains num_batches of parameter updates.\n",
    "        total_loss = 0.0\n",
    "        for _ in xrange(num_batches):\n",
    "            # Fetch next mini-batch of data using TensorFlow's default method.\n",
    "            x_batch, y_batch = mnist.train.next_batch(batch_size)\n",
    "            # Note that we also need to include optimizer into the list in order to update parameters, but we \n",
    "            # don't need the return value of optimizer.\n",
    "            _, loss_batch = sess.run([optimizer, loss], feed_dict = {train_x: x_batch, train_y: y_batch})\n",
    "            total_loss += loss_batch\n",
    "        # Compute training set and validation set accuracy after each epoch.\n",
    "        train_acc = sess.run([accuracy], feed_dict = {train_x: mnist.train.images, train_y: mnist.train.labels})\n",
    "        valid_acc = sess.run([accuracy], feed_dict = {train_x: mnist.validation.images, train_y: mnist.validation.labels})\n",
    "        losses.append(total_loss)\n",
    "        train_accs.append(train_acc)\n",
    "        valid_accs.append(valid_acc)\n",
    "        print \"Number of iteration: {}, total_loss = {}, train accuracy = {}, validation accuracy = {}\".format(i, total_loss, train_acc, valid_acc)\n",
    "    # Evaluate the test set accuracy at the end.\n",
    "    test_acc = sess.run([accuracy], feed_dict = {train_x: mnist.test.images, train_y: mnist.test.labels})\n",
    "time_end = time.time()\n",
    "print \"Time used for training = {} seconds.\".format(time_end - time_start)\n",
    "print \"MNIST image classification accuracy on test set = {}\".format(test_acc)"
   ]
  },
  {
   "cell_type": "code",
   "execution_count": 50,
   "metadata": {},
   "outputs": [
    {
     "data": {
      "image/png": "[encoded data removed]",
      "text/plain": [
       "<matplotlib.figure.Figure at 0x11c186c90>"
      ]
     },
     "metadata": {},
     "output_type": "display_data"
    }
   ],
   "source": [
    "# Plot the losses during training.\n",
    "plt.figure()\n",
    "plt.title(\"Logistic regression with TensorFlow\")\n",
    "plt.plot(losses, \"b-o\", linewidth=2)\n",
    "plt.grid(True)\n",
    "plt.xlabel(\"Iteration\")\n",
    "plt.ylabel(\"Cross-entropy\")\n",
    "plt.show()"
   ]
  },
  {
   "cell_type": "code",
   "execution_count": null,
   "metadata": {
    "collapsed": true
   },
   "outputs": [],
   "source": [
    ""
   ]
  }
 ],
 "metadata": {
  "kernelspec": {
   "display_name": "Python 2",
   "language": "python",
   "name": "python2"
  },
  "language_info": {
   "codemirror_mode": {
    "name": "ipython",
    "version": 2.0
   },
   "file_extension": ".py",
   "mimetype": "text/x-python",
   "name": "python",
   "nbconvert_exporter": "python",
   "pygments_lexer": "ipython2",
   "version": "2.7.10"
  }
 },
 "nbformat": 4,
 "nbformat_minor": 0
}